{
 "cells": [
  {
   "cell_type": "markdown",
   "metadata": {},
   "source": [
    "# notebook holder\n",
    "\n",
    "This notebook makes your jupyter notebook keep awake! \n",
    "\n",
    "**REQUIREMENT:** Resolvability of \"metadata.google.internal\" is needed.\n",
    "\n",
    "### variables\n",
    "* hours: the time that you want your jupyter notebook awake by."
   ]
  },
  {
   "cell_type": "code",
   "execution_count": null,
   "metadata": {},
   "outputs": [],
   "source": [
    "from workspace_utils import keep_awake\n",
    "import pytz\n",
    "import datetime\n",
    "import time\n",
    "\n",
    "seconds_per_min = 60\n",
    "minute_per_hour = 60\n",
    "hours = 24\n",
    "\n",
    "\n",
    "for i in keep_awake(range(hours*minute_per_hour)):\n",
    "    utc_now = datetime.datetime.now(pytz.timezone('UTC'))\n",
    "    jst_now = utc_now.astimezone(pytz.timezone('Asia/Tokyo'))\n",
    "    print(\"keep working:\", jst_now.strftime(\"%Y/%m/%d %H:%M:%S\"))\n",
    "    time.sleep(60)"
   ]
  }
 ],
 "metadata": {
  "kernelspec": {
   "display_name": "Python 3",
   "language": "python",
   "name": "python3"
  },
  "language_info": {
   "codemirror_mode": {
    "name": "ipython",
    "version": 3
   },
   "file_extension": ".py",
   "mimetype": "text/x-python",
   "name": "python",
   "nbconvert_exporter": "python",
   "pygments_lexer": "ipython3",
   "version": "3.6.5"
  }
 },
 "nbformat": 4,
 "nbformat_minor": 2
}
