{
 "cells": [
  {
   "cell_type": "code",
   "execution_count": null,
   "metadata": {},
   "outputs": [
    {
     "name": "stdout",
     "output_type": "stream",
     "text": [
      "keep working: 2018/11/14 01:09:04\n",
      "keep working: 2018/11/14 01:10:04\n",
      "keep working: 2018/11/14 01:11:04\n",
      "keep working: 2018/11/14 01:12:04\n",
      "keep working: 2018/11/14 01:13:04\n",
      "keep working: 2018/11/14 01:14:04\n",
      "keep working: 2018/11/14 01:15:04\n",
      "keep working: 2018/11/14 01:16:04\n",
      "keep working: 2018/11/14 01:17:04\n",
      "keep working: 2018/11/14 01:18:04\n",
      "keep working: 2018/11/14 01:19:04\n",
      "keep working: 2018/11/14 01:20:04\n",
      "keep working: 2018/11/14 01:21:04\n",
      "keep working: 2018/11/14 01:22:04\n",
      "keep working: 2018/11/14 01:23:04\n",
      "keep working: 2018/11/14 01:24:04\n",
      "keep working: 2018/11/14 01:25:04\n",
      "keep working: 2018/11/14 01:26:04\n"
     ]
    }
   ],
   "source": [
    "from workspace_utils import keep_awake\n",
    "import pytz\n",
    "import datetime\n",
    "import time\n",
    "\n",
    "seconds_per_min = 60\n",
    "minute_per_hour = 60\n",
    "hours = 24\n",
    "\n",
    "\n",
    "for i in keep_awake(range(hours*minute_per_hour)):\n",
    "    utc_now = datetime.datetime.now(pytz.timezone('UTC'))\n",
    "    jst_now = utc_now.astimezone(pytz.timezone('Asia/Tokyo'))\n",
    "    print(\"keep working:\", jst_now.strftime(\"%Y/%m/%d %H:%M:%S\"))\n",
    "    time.sleep(60)"
   ]
  },
  {
   "cell_type": "code",
   "execution_count": 22,
   "metadata": {},
   "outputs": [
    {
     "name": "stdout",
     "output_type": "stream",
     "text": [
      "True\n",
      "['2_Training.ipynb', 'vocab.pkl', '1_Preliminaries.ipynb', 'sample.ipynb', 'data_loader.py', 'images', '0_Dataset.ipynb', 'model.py', 'workspace_utils.py', '__pycache__', 'vocabulary.py', '4_Zip Your Project Files and Submit.ipynb', 'models', '3_Inference.ipynb', 'training_log.txt', 'filelist.txt', '.ipynb_checkpoints']\n"
     ]
    }
   ],
   "source": [
    "import os\n",
    "print(str(os.path.exists('./models')))\n",
    "print(os.listdir('/home/workspace'))"
   ]
  }
 ],
 "metadata": {
  "kernelspec": {
   "display_name": "Python 3",
   "language": "python",
   "name": "python3"
  },
  "language_info": {
   "codemirror_mode": {
    "name": "ipython",
    "version": 3
   },
   "file_extension": ".py",
   "mimetype": "text/x-python",
   "name": "python",
   "nbconvert_exporter": "python",
   "pygments_lexer": "ipython3",
   "version": "3.6.3"
  }
 },
 "nbformat": 4,
 "nbformat_minor": 2
}
